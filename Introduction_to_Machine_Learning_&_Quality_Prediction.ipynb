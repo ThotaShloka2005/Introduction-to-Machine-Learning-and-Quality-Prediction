{
  "nbformat": 4,
  "nbformat_minor": 0,
  "metadata": {
    "colab": {
      "provenance": []
    },
    "kernelspec": {
      "name": "python3",
      "display_name": "Python 3"
    },
    "language_info": {
      "name": "python"
    }
  },
  "cells": [
    {
      "cell_type": "code",
      "execution_count": 8,
      "metadata": {
        "id": "6u4p-0gUqrMR"
      },
      "outputs": [],
      "source": [
        "# Import required libraries\n",
        "import pandas as pd\n",
        "import numpy as np\n",
        "import matplotlib.pyplot as plt\n",
        "import seaborn as sns\n",
        "\n",
        "from sklearn.model_selection import train_test_split\n",
        "from sklearn.ensemble import RandomForestClassifier\n",
        "from sklearn.linear_model import LinearRegression\n",
        "from sklearn.metrics import accuracy_score, classification_report, mean_squared_error, r2_score\n",
        "from sklearn.preprocessing import LabelEncoder, StandardScaler"
      ]
    },
    {
      "cell_type": "code",
      "source": [
        "np.random.seed(42)\n",
        "n_samples = 500"
      ],
      "metadata": {
        "id": "96S4m2BlrDb0"
      },
      "execution_count": 21,
      "outputs": []
    },
    {
      "cell_type": "code",
      "source": [
        "data = pd.DataFrame({\n",
        "    'temperature': np.random.normal(70, 5, n_samples),\n",
        "    'pressure': np.random.normal(30, 2, n_samples),\n",
        "    'speed': np.random.normal(100, 15, n_samples),\n",
        "    'moisture': np.random.uniform(5, 15, n_samples),\n",
        "})\n"
      ],
      "metadata": {
        "id": "isMMMpjErDeu"
      },
      "execution_count": 22,
      "outputs": []
    },
    {
      "cell_type": "code",
      "source": [
        "# Assume quality_grade is continuous (regression target)\n",
        "data['quality_grade'] = (\n",
        "    0.3 * data['temperature'] +\n",
        "    0.5 * data['pressure'] +\n",
        "    -0.2 * data['speed'] +\n",
        "    0.1 * data['moisture'] +\n",
        "    np.random.normal(0, 2, n_samples)\n",
        ")"
      ],
      "metadata": {
        "id": "D9Ms1K4DrDhf"
      },
      "execution_count": 23,
      "outputs": []
    },
    {
      "cell_type": "code",
      "source": [
        "# Binary classification: Accept (1) if quality_grade > threshold else Reject (0)\n",
        "threshold = data['quality_grade'].median()\n",
        "data['accept'] = (data['quality_grade'] > threshold).astype(int)\n",
        "\n",
        "print(\"Sample data:\")\n",
        "print(data.head())"
      ],
      "metadata": {
        "colab": {
          "base_uri": "https://localhost:8080/"
        },
        "id": "lRsVczfmrDka",
        "outputId": "a6bacb81-bcf6-450f-db80-5b376c36998a"
      },
      "execution_count": 24,
      "outputs": [
        {
          "output_type": "stream",
          "name": "stdout",
          "text": [
            "Sample data:\n",
            "   temperature   pressure       speed   moisture  quality_grade  accept\n",
            "0    72.483571  31.852355  120.990332   7.698207      11.101251       0\n",
            "1    69.308678  33.818833  113.869505  13.250494      13.999634       0\n",
            "2    73.238443  27.202865  100.894456   9.982557      14.004480       0\n",
            "3    77.615149  31.125938   90.295948   5.770583      21.651269       1\n",
            "4    68.829233  28.698715  110.473350   5.585509      16.927038       1\n"
          ]
        }
      ]
    },
    {
      "cell_type": "code",
      "source": [
        "# Step 2: Prepare features and targets\n",
        "X = data[['temperature', 'pressure', 'speed', 'moisture']]\n",
        "y_class = data['accept']          # classification target\n",
        "y_reg = data['quality_grade']     # regression target"
      ],
      "metadata": {
        "id": "08qsDEk1rDnI"
      },
      "execution_count": 25,
      "outputs": []
    },
    {
      "cell_type": "code",
      "source": [
        "# Step 3: Train/test split\n",
        "X_train, X_test, y_class_train, y_class_test, y_reg_train, y_reg_test = train_test_split(\n",
        "    X, y_class, y_reg, test_size=0.3, random_state=42\n",
        ")\n"
      ],
      "metadata": {
        "id": "HKK6fGIzrDp0"
      },
      "execution_count": 26,
      "outputs": []
    },
    {
      "cell_type": "code",
      "source": [
        "# Step 4: Scale features\n",
        "scaler = StandardScaler()\n",
        "X_train_scaled = scaler.fit_transform(X_train)\n",
        "X_test_scaled = scaler.transform(X_test)\n"
      ],
      "metadata": {
        "id": "fcXwecOHrDsh"
      },
      "execution_count": 27,
      "outputs": []
    },
    {
      "cell_type": "code",
      "source": [
        "clf = RandomForestClassifier(n_estimators=100, random_state=42)\n",
        "clf.fit(X_train_scaled, y_class_train)\n",
        "y_class_pred = clf.predict(X_test_scaled)\n",
        "print(\"\\nClassification Model Performance:\")\n",
        "print(classification_report(y_class_test, y_class_pred))"
      ],
      "metadata": {
        "colab": {
          "base_uri": "https://localhost:8080/"
        },
        "id": "CmOMNRx4rDvR",
        "outputId": "854edccd-8cf7-49d3-f3ad-549eb8f9bcb8"
      },
      "execution_count": 30,
      "outputs": [
        {
          "output_type": "stream",
          "name": "stdout",
          "text": [
            "\n",
            "Classification Model Performance:\n",
            "              precision    recall  f1-score   support\n",
            "\n",
            "           0       0.80      0.82      0.81        82\n",
            "           1       0.77      0.75      0.76        68\n",
            "\n",
            "    accuracy                           0.79       150\n",
            "   macro avg       0.79      0.78      0.78       150\n",
            "weighted avg       0.79      0.79      0.79       150\n",
            "\n"
          ]
        }
      ]
    },
    {
      "cell_type": "code",
      "source": [
        "print(\"Shapes:\")\n",
        "print(\"X_train_scaled:\", X_train_scaled.shape)\n",
        "print(\"y_reg_train:\", y_reg_train.shape)\n",
        "print(\"X_test_scaled:\", X_test_scaled.shape)\n",
        "print(\"y_reg_test:\", y_reg_test.shape)\n"
      ],
      "metadata": {
        "colab": {
          "base_uri": "https://localhost:8080/"
        },
        "id": "Z7IYpjL-rDyD",
        "outputId": "588a661f-d5a3-4aa4-9d58-eece5ff8aec5"
      },
      "execution_count": 34,
      "outputs": [
        {
          "output_type": "stream",
          "name": "stdout",
          "text": [
            "Shapes:\n",
            "X_train_scaled: (350, 4)\n",
            "y_reg_train: (350,)\n",
            "X_test_scaled: (150, 4)\n",
            "y_reg_test: (150,)\n"
          ]
        }
      ]
    },
    {
      "cell_type": "code",
      "source": [
        "feat_importance = pd.Series(clf.feature_importances_, index=X.columns)\n",
        "feat_importance = feat_importance.sort_values(ascending=False)\n",
        "\n",
        "plt.figure(figsize=(8,4))\n",
        "sns.barplot(x=feat_importance, y=feat_importance.index)\n",
        "plt.title(\"Feature Importance (Classification Model)\")\n",
        "plt.show()"
      ],
      "metadata": {
        "colab": {
          "base_uri": "https://localhost:8080/",
          "height": 410
        },
        "id": "u0H0DJHhrD09",
        "outputId": "53c79ba2-2d20-466f-afcf-2529b53bbc60"
      },
      "execution_count": 35,
      "outputs": [
        {
          "output_type": "display_data",
          "data": {
            "text/plain": [
              "<Figure size 800x400 with 1 Axes>"
            ],
            "image/png": "[encoded data removed]"
          },
          "metadata": {}
        }
      ]
    },
    {
      "cell_type": "code",
      "source": [
        "def predict_quality(input_params):\n",
        "    \"\"\"\n",
        "    input_params: dict with keys temperature, pressure, speed, moisture\n",
        "    Returns predicted accept/reject and quality grade\n",
        "    \"\"\"\n",
        "    df = pd.DataFrame([input_params])\n",
        "    df_scaled = scaler.transform(df)\n",
        "    accept_pred = clf.predict(df_scaled)[0]\n",
        "    quality_pred = reg.predict(df_scaled)[0]\n",
        "    return {\"accept\": \"Accept\" if accept_pred == 1 else \"Reject\", \"quality_grade\": quality_pred}"
      ],
      "metadata": {
        "id": "2glNK1EntfmW"
      },
      "execution_count": 37,
      "outputs": []
    }
  ]
}